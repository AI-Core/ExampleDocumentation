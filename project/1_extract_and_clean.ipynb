{
 "cells": [
  {
   "cell_type": "markdown",
   "metadata": {},
   "source": [
    "### Extract Data and Clean It\n",
    "\n",
    "#### 1. Import libraries and set options"
   ]
  },
  {
   "cell_type": "code",
   "execution_count": 1,
   "metadata": {},
   "outputs": [
    {
     "name": "stderr",
     "output_type": "stream",
     "text": [
      "/home/jonny/miniconda3/lib/python3.9/site-packages/fuzzywuzzy/fuzz.py:11: UserWarning: Using slow pure-python SequenceMatcher. Install python-Levenshtein to remove this warning\n",
      "  warnings.warn('Using slow pure-python SequenceMatcher. Install python-Levenshtein to remove this warning')\n"
     ]
    }
   ],
   "source": [
    "import os\n",
    "import pandas as pd\n",
    "from IPython.display import display\n",
    "from fuzzywuzzy import process\n",
    "pd.set_option('max_colwidth', 400)"
   ]
  },
  {
   "cell_type": "markdown",
   "metadata": {},
   "source": [
    "#### 2. Create Dataframes and clean data\n",
    "##### 2.1 Match data Dataframe\n",
    "Collate csv files, convert into lists and create first dataframe containing result data."
   ]
  },
  {
   "cell_type": "code",
   "execution_count": 2,
   "metadata": {},
   "outputs": [
    {
     "data": {
      "text/html": [
       "<div>\n",
       "<style scoped>\n",
       "    .dataframe tbody tr th:only-of-type {\n",
       "        vertical-align: middle;\n",
       "    }\n",
       "\n",
       "    .dataframe tbody tr th {\n",
       "        vertical-align: top;\n",
       "    }\n",
       "\n",
       "    .dataframe thead th {\n",
       "        text-align: right;\n",
       "    }\n",
       "</style>\n",
       "<table border=\"1\" class=\"dataframe\">\n",
       "  <thead>\n",
       "    <tr style=\"text-align: right;\">\n",
       "      <th></th>\n",
       "      <th>Home_Team</th>\n",
       "      <th>Away_Team</th>\n",
       "      <th>Result</th>\n",
       "      <th>Link</th>\n",
       "      <th>Season</th>\n",
       "      <th>Round</th>\n",
       "      <th>League</th>\n",
       "    </tr>\n",
       "  </thead>\n",
       "  <tbody>\n",
       "    <tr>\n",
       "      <th>0</th>\n",
       "      <td>Perugia</td>\n",
       "      <td>Bologna</td>\n",
       "      <td>2-1</td>\n",
       "      <td>https://www.besoccer.com/match/perugia/bologna/2015164038</td>\n",
       "      <td>2015</td>\n",
       "      <td>1</td>\n",
       "      <td>serie_b</td>\n",
       "    </tr>\n",
       "    <tr>\n",
       "      <th>1</th>\n",
       "      <td>Avellino</td>\n",
       "      <td>Pro Vercelli</td>\n",
       "      <td>1-0</td>\n",
       "      <td>https://www.besoccer.com/match/us-avellino/us-pro-vercelli-calcio/2015164030</td>\n",
       "      <td>2015</td>\n",
       "      <td>1</td>\n",
       "      <td>serie_b</td>\n",
       "    </tr>\n",
       "    <tr>\n",
       "      <th>2</th>\n",
       "      <td>Catania</td>\n",
       "      <td>Virtus Lanciano</td>\n",
       "      <td>3-3</td>\n",
       "      <td>https://www.besoccer.com/match/catania/ss-virtus-lanciano-1924/2015164031</td>\n",
       "      <td>2015</td>\n",
       "      <td>1</td>\n",
       "      <td>serie_b</td>\n",
       "    </tr>\n",
       "    <tr>\n",
       "      <th>3</th>\n",
       "      <td>Crotone</td>\n",
       "      <td>Ternana Calcio</td>\n",
       "      <td>0-2</td>\n",
       "      <td>https://www.besoccer.com/match/fc-crotone/ternana-calcio/2015164032</td>\n",
       "      <td>2015</td>\n",
       "      <td>1</td>\n",
       "      <td>serie_b</td>\n",
       "    </tr>\n",
       "    <tr>\n",
       "      <th>4</th>\n",
       "      <td>Virtus Entella</td>\n",
       "      <td>SSC Bari</td>\n",
       "      <td>0-2</td>\n",
       "      <td>https://www.besoccer.com/match/virtus-entella/as-bari/2015164033</td>\n",
       "      <td>2015</td>\n",
       "      <td>1</td>\n",
       "      <td>serie_b</td>\n",
       "    </tr>\n",
       "  </tbody>\n",
       "</table>\n",
       "</div>"
      ],
      "text/plain": [
       "        Home_Team        Away_Team Result  \\\n",
       "0         Perugia          Bologna    2-1   \n",
       "1        Avellino     Pro Vercelli    1-0   \n",
       "2         Catania  Virtus Lanciano    3-3   \n",
       "3         Crotone   Ternana Calcio    0-2   \n",
       "4  Virtus Entella         SSC Bari    0-2   \n",
       "\n",
       "                                                                           Link  \\\n",
       "0                     https://www.besoccer.com/match/perugia/bologna/2015164038   \n",
       "1  https://www.besoccer.com/match/us-avellino/us-pro-vercelli-calcio/2015164030   \n",
       "2     https://www.besoccer.com/match/catania/ss-virtus-lanciano-1924/2015164031   \n",
       "3           https://www.besoccer.com/match/fc-crotone/ternana-calcio/2015164032   \n",
       "4              https://www.besoccer.com/match/virtus-entella/as-bari/2015164033   \n",
       "\n",
       "   Season  Round   League  \n",
       "0    2015      1  serie_b  \n",
       "1    2015      1  serie_b  \n",
       "2    2015      1  serie_b  \n",
       "3    2015      1  serie_b  \n",
       "4    2015      1  serie_b  "
      ]
     },
     "metadata": {},
     "output_type": "display_data"
    },
    {
     "name": "stdout",
     "output_type": "stream",
     "text": [
      "<class 'pandas.core.frame.DataFrame'>\n",
      "RangeIndex: 146498 entries, 0 to 146497\n",
      "Data columns (total 7 columns):\n",
      " #   Column     Non-Null Count   Dtype \n",
      "---  ------     --------------   ----- \n",
      " 0   Home_Team  146498 non-null  object\n",
      " 1   Away_Team  146498 non-null  object\n",
      " 2   Result     146498 non-null  object\n",
      " 3   Link       146498 non-null  object\n",
      " 4   Season     146498 non-null  int64 \n",
      " 5   Round      146498 non-null  int64 \n",
      " 6   League     146498 non-null  object\n",
      "dtypes: int64(2), object(5)\n",
      "memory usage: 7.8+ MB\n"
     ]
    }
   ],
   "source": [
    "project_dir = os.path.dirname(os.path.abspath(''))\n",
    "data_dir = os.path.join(project_dir, 'raw_data', 'dataset_1')\n",
    "\n",
    "field_names = []\n",
    "df_list = []\n",
    "\n",
    "for root, _, files in os.walk(data_dir):\n",
    "    for filenames in files:\n",
    "        file_path = os.path.join(root, filenames)\n",
    "        if field_names == []:\n",
    "            field_names = pd.read_csv(file_path, nrows=0).columns.tolist()\n",
    "        else:\n",
    "            new_field_names = pd.read_csv(file_path, nrows=0).columns.tolist()\n",
    "            for index, element in enumerate(field_names):\n",
    "                if element != new_field_names[index]:\n",
    "                    print(f\"Field names don't match in {filenames}\")\n",
    "                    break   \n",
    "        df_list.extend(pd.read_csv(file_path).values.tolist())\n",
    "\n",
    "results_df = pd.DataFrame(df_list, columns=field_names)\n",
    "display(results_df.head())\n",
    "\n",
    "results_df.info()"
   ]
  },
  {
   "cell_type": "markdown",
   "metadata": {},
   "source": [
    "**Findings:**\n",
    "Based on the above, the results, season, round and league need to be validated and if applicable cleaned.\n",
    "\n",
    "Team names and links will have to be assumed to be correct for now.\n",
    "\n",
    "**Results** - Check scores validity and update where required for consistency."
   ]
  },
  {
   "cell_type": "code",
   "execution_count": 3,
   "metadata": {},
   "outputs": [
    {
     "data": {
      "text/html": [
       "<div>\n",
       "<style scoped>\n",
       "    .dataframe tbody tr th:only-of-type {\n",
       "        vertical-align: middle;\n",
       "    }\n",
       "\n",
       "    .dataframe tbody tr th {\n",
       "        vertical-align: top;\n",
       "    }\n",
       "\n",
       "    .dataframe thead th {\n",
       "        text-align: right;\n",
       "    }\n",
       "</style>\n",
       "<table border=\"1\" class=\"dataframe\">\n",
       "  <thead>\n",
       "    <tr style=\"text-align: right;\">\n",
       "      <th></th>\n",
       "      <th>Home_Team</th>\n",
       "      <th>Away_Team</th>\n",
       "      <th>Result</th>\n",
       "      <th>Link</th>\n",
       "      <th>Season</th>\n",
       "      <th>Round</th>\n",
       "      <th>League</th>\n",
       "    </tr>\n",
       "  </thead>\n",
       "  <tbody>\n",
       "    <tr>\n",
       "      <th>1118</th>\n",
       "      <td>Spezia</td>\n",
       "      <td>SSC Bari</td>\n",
       "      <td>3 (3-2) 2</td>\n",
       "      <td>https://www.besoccer.com/match/asd-spezia/as-bari/2013228635</td>\n",
       "      <td>2013</td>\n",
       "      <td>18</td>\n",
       "      <td>serie_b</td>\n",
       "    </tr>\n",
       "    <tr>\n",
       "      <th>1120</th>\n",
       "      <td>Cittadella</td>\n",
       "      <td>Varese</td>\n",
       "      <td>0 (0-1) 1</td>\n",
       "      <td>https://www.besoccer.com/match/as-cittadella/as-varese-1910/2013228628</td>\n",
       "      <td>2013</td>\n",
       "      <td>18</td>\n",
       "      <td>serie_b</td>\n",
       "    </tr>\n",
       "    <tr>\n",
       "      <th>45638</th>\n",
       "      <td>Marítimo</td>\n",
       "      <td>Sporting CP</td>\n",
       "      <td>1 (0-0) 1</td>\n",
       "      <td>https://www.besoccer.com/match/maritimo/sporting-lisbon/20139929</td>\n",
       "      <td>2013</td>\n",
       "      <td>3</td>\n",
       "      <td>primeira_liga</td>\n",
       "    </tr>\n",
       "    <tr>\n",
       "      <th>91355</th>\n",
       "      <td>Aston Villa</td>\n",
       "      <td>Everton</td>\n",
       "      <td>17 JAN</td>\n",
       "      <td>https://www.besoccer.com/match/aston-villa-fc/everton-fc/202172414</td>\n",
       "      <td>2021</td>\n",
       "      <td>19</td>\n",
       "      <td>premier_league</td>\n",
       "    </tr>\n",
       "    <tr>\n",
       "      <th>119078</th>\n",
       "      <td>PEC Zwolle</td>\n",
       "      <td>VVV Venlo</td>\n",
       "      <td>0 (0-0) 0</td>\n",
       "      <td>https://www.besoccer.com/match/fc-zwolle/vvv/20136495</td>\n",
       "      <td>2013</td>\n",
       "      <td>15</td>\n",
       "      <td>eredivisie</td>\n",
       "    </tr>\n",
       "    <tr>\n",
       "      <th>133873</th>\n",
       "      <td>Strasbourg</td>\n",
       "      <td>PSG</td>\n",
       "      <td>18 MAR</td>\n",
       "      <td>https://www.besoccer.com/match/strasbourg/paris-saint-germain-fc/202010330</td>\n",
       "      <td>2020</td>\n",
       "      <td>28</td>\n",
       "      <td>ligue_1</td>\n",
       "    </tr>\n",
       "  </tbody>\n",
       "</table>\n",
       "</div>"
      ],
      "text/plain": [
       "          Home_Team    Away_Team     Result  \\\n",
       "1118         Spezia     SSC Bari  3 (3-2) 2   \n",
       "1120     Cittadella       Varese  0 (0-1) 1   \n",
       "45638      Marítimo  Sporting CP  1 (0-0) 1   \n",
       "91355   Aston Villa      Everton     17 JAN   \n",
       "119078   PEC Zwolle    VVV Venlo  0 (0-0) 0   \n",
       "133873   Strasbourg          PSG     18 MAR   \n",
       "\n",
       "                                                                              Link  \\\n",
       "1118                  https://www.besoccer.com/match/asd-spezia/as-bari/2013228635   \n",
       "1120        https://www.besoccer.com/match/as-cittadella/as-varese-1910/2013228628   \n",
       "45638             https://www.besoccer.com/match/maritimo/sporting-lisbon/20139929   \n",
       "91355           https://www.besoccer.com/match/aston-villa-fc/everton-fc/202172414   \n",
       "119078                       https://www.besoccer.com/match/fc-zwolle/vvv/20136495   \n",
       "133873  https://www.besoccer.com/match/strasbourg/paris-saint-germain-fc/202010330   \n",
       "\n",
       "        Season  Round          League  \n",
       "1118      2013     18         serie_b  \n",
       "1120      2013     18         serie_b  \n",
       "45638     2013      3   primeira_liga  \n",
       "91355     2021     19  premier_league  \n",
       "119078    2013     15      eredivisie  \n",
       "133873    2020     28         ligue_1  "
      ]
     },
     "metadata": {},
     "output_type": "display_data"
    },
    {
     "data": {
      "text/html": [
       "<div>\n",
       "<style scoped>\n",
       "    .dataframe tbody tr th:only-of-type {\n",
       "        vertical-align: middle;\n",
       "    }\n",
       "\n",
       "    .dataframe tbody tr th {\n",
       "        vertical-align: top;\n",
       "    }\n",
       "\n",
       "    .dataframe thead th {\n",
       "        text-align: right;\n",
       "    }\n",
       "</style>\n",
       "<table border=\"1\" class=\"dataframe\">\n",
       "  <thead>\n",
       "    <tr style=\"text-align: right;\">\n",
       "      <th></th>\n",
       "      <th>Home_Team</th>\n",
       "      <th>Away_Team</th>\n",
       "      <th>Result</th>\n",
       "      <th>Link</th>\n",
       "      <th>Season</th>\n",
       "      <th>Round</th>\n",
       "      <th>League</th>\n",
       "    </tr>\n",
       "  </thead>\n",
       "  <tbody>\n",
       "  </tbody>\n",
       "</table>\n",
       "</div>"
      ],
      "text/plain": [
       "Empty DataFrame\n",
       "Columns: [Home_Team, Away_Team, Result, Link, Season, Round, League]\n",
       "Index: []"
      ]
     },
     "execution_count": 3,
     "metadata": {},
     "output_type": "execute_result"
    }
   ],
   "source": [
    "possible_results = []\n",
    "for i in range(20):\n",
    "    for j in range(20):\n",
    "        possible_results.append(f'{i}-{j}')\n",
    "display(results_df.loc[~results_df['Result'].isin(possible_results)])\n",
    "\n",
    "results_df.iloc[1118, 2] = '3-2'\n",
    "results_df.iloc[1120, 2] = '0-1'\n",
    "results_df.iloc[45638, 2] = '1-1'\n",
    "results_df.iloc[91355, 2] = '0-0'\n",
    "results_df.iloc[119078, 2] = '0-0'\n",
    "results_df = results_df.drop([133873]) # This match was cancelled\n",
    "results_df.loc[~results_df['Result'].isin(possible_results)]"
   ]
  },
  {
   "cell_type": "markdown",
   "metadata": {},
   "source": [
    "**Team Names** - Confirm that there are no spurious/mis spelt team names (i.e. appearing less than 10 times)."
   ]
  },
  {
   "cell_type": "code",
   "execution_count": 4,
   "metadata": {},
   "outputs": [
    {
     "data": {
      "text/html": [
       "<div>\n",
       "<style scoped>\n",
       "    .dataframe tbody tr th:only-of-type {\n",
       "        vertical-align: middle;\n",
       "    }\n",
       "\n",
       "    .dataframe tbody tr th {\n",
       "        vertical-align: top;\n",
       "    }\n",
       "\n",
       "    .dataframe thead th {\n",
       "        text-align: right;\n",
       "    }\n",
       "</style>\n",
       "<table border=\"1\" class=\"dataframe\">\n",
       "  <thead>\n",
       "    <tr style=\"text-align: right;\">\n",
       "      <th></th>\n",
       "      <th>Home_Team</th>\n",
       "      <th>Away_Team</th>\n",
       "      <th>Result</th>\n",
       "      <th>Link</th>\n",
       "      <th>Season</th>\n",
       "      <th>Round</th>\n",
       "      <th>League</th>\n",
       "    </tr>\n",
       "  </thead>\n",
       "  <tbody>\n",
       "  </tbody>\n",
       "</table>\n",
       "</div>"
      ],
      "text/plain": [
       "Empty DataFrame\n",
       "Columns: [Home_Team, Away_Team, Result, Link, Season, Round, League]\n",
       "Index: []"
      ]
     },
     "metadata": {},
     "output_type": "display_data"
    }
   ],
   "source": [
    "display(results_df[results_df.groupby('Home_Team')['Home_Team'].transform('size') < 10])"
   ]
  },
  {
   "cell_type": "markdown",
   "metadata": {},
   "source": [
    "**Season, Round, League** - Confirm that the set of values is consistent and valid."
   ]
  },
  {
   "cell_type": "code",
   "execution_count": 5,
   "metadata": {},
   "outputs": [
    {
     "name": "stdout",
     "output_type": "stream",
     "text": [
      "{1990, 1991, 1992, 1993, 1994, 1995, 1996, 1997, 1998, 1999, 2000, 2001, 2002, 2003, 2004, 2005, 2006, 2007, 2008, 2009, 2010, 2011, 2012, 2013, 2014, 2015, 2016, 2017, 2018, 2019, 2020, 2021}\n",
      "{'ligue_2', 'eredivisie', '2_liga', 'bundesliga', 'championship', 'primeira_liga', 'premier_league', 'serie_a', 'ligue_1', 'segunda_liga', 'serie_b', 'primera_division', 'eerste_divisie', 'segunda_division'}\n",
      "{1, 2, 3, 4, 5, 6, 7, 8, 9, 10, 11, 12, 13, 14, 15, 16, 17, 18, 19, 20, 21, 22, 23, 24, 25, 26, 27, 28, 29, 30, 31, 32, 33, 34, 35, 36, 37, 38, 39, 40, 41, 42, 43, 44, 45, 46}\n"
     ]
    }
   ],
   "source": [
    "print(set(results_df['Season']))\n",
    "print(set(results_df['League']))\n",
    "print(set(results_df['Round']))"
   ]
  },
  {
   "cell_type": "markdown",
   "metadata": {},
   "source": [
    "##### 2.2 Match Info Dataframe\n",
    "Convert csv files into dataframe containing match data."
   ]
  },
  {
   "cell_type": "code",
   "execution_count": 6,
   "metadata": {},
   "outputs": [
    {
     "data": {
      "text/html": [
       "<div>\n",
       "<style scoped>\n",
       "    .dataframe tbody tr th:only-of-type {\n",
       "        vertical-align: middle;\n",
       "    }\n",
       "\n",
       "    .dataframe tbody tr th {\n",
       "        vertical-align: top;\n",
       "    }\n",
       "\n",
       "    .dataframe thead th {\n",
       "        text-align: right;\n",
       "    }\n",
       "</style>\n",
       "<table border=\"1\" class=\"dataframe\">\n",
       "  <thead>\n",
       "    <tr style=\"text-align: right;\">\n",
       "      <th></th>\n",
       "      <th>Link</th>\n",
       "      <th>Date_New</th>\n",
       "      <th>Referee</th>\n",
       "      <th>Home_Yellow</th>\n",
       "      <th>Home_Red</th>\n",
       "      <th>Away_Yellow</th>\n",
       "      <th>Away_Red</th>\n",
       "    </tr>\n",
       "  </thead>\n",
       "  <tbody>\n",
       "    <tr>\n",
       "      <th>0</th>\n",
       "      <td>/match/saarbrucken/stuttgarter-kickers/1990</td>\n",
       "      <td>Saturday, 29 July 1989, 15:00</td>\n",
       "      <td>\\r\\nReferee: Hans-Jürgen Weber\\r\\n</td>\n",
       "      <td>0.0</td>\n",
       "      <td>0.0</td>\n",
       "      <td>3.0</td>\n",
       "      <td>0.0</td>\n",
       "    </tr>\n",
       "    <tr>\n",
       "      <th>1</th>\n",
       "      <td>/match/sc-freiburg/unterhaching/1990</td>\n",
       "      <td>Saturday, 29 July 1989, 15:00</td>\n",
       "      <td>\\r\\nReferee: Kurt Wittke\\r\\n</td>\n",
       "      <td>1.0</td>\n",
       "      <td>0.0</td>\n",
       "      <td>0.0</td>\n",
       "      <td>0.0</td>\n",
       "    </tr>\n",
       "    <tr>\n",
       "      <th>2</th>\n",
       "      <td>/match/vfl-osnabruck/meppen/1990</td>\n",
       "      <td>Saturday, 29 July 1989, 15:00</td>\n",
       "      <td>\\r\\nReferee: Werner Föckler\\r\\n</td>\n",
       "      <td>3.0</td>\n",
       "      <td>0.0</td>\n",
       "      <td>2.0</td>\n",
       "      <td>0.0</td>\n",
       "    </tr>\n",
       "    <tr>\n",
       "      <th>3</th>\n",
       "      <td>/match/rot-weiss-essen/schalke-04/1990</td>\n",
       "      <td>Saturday, 29 July 1989, 15:00</td>\n",
       "      <td>\\r\\nReferee: Heinz Werner\\r\\n</td>\n",
       "      <td>2.0</td>\n",
       "      <td>0.0</td>\n",
       "      <td>2.0</td>\n",
       "      <td>0.0</td>\n",
       "    </tr>\n",
       "    <tr>\n",
       "      <th>4</th>\n",
       "      <td>/match/alemannia-aachen/msv-duisburg/1990</td>\n",
       "      <td>Saturday, 29 July 1989, 15:00</td>\n",
       "      <td>\\r\\nReferee: Hans-Peter Dellwing\\r\\n</td>\n",
       "      <td>1.0</td>\n",
       "      <td>0.0</td>\n",
       "      <td>1.0</td>\n",
       "      <td>0.0</td>\n",
       "    </tr>\n",
       "  </tbody>\n",
       "</table>\n",
       "</div>"
      ],
      "text/plain": [
       "                                          Link                       Date_New  \\\n",
       "0  /match/saarbrucken/stuttgarter-kickers/1990  Saturday, 29 July 1989, 15:00   \n",
       "1         /match/sc-freiburg/unterhaching/1990  Saturday, 29 July 1989, 15:00   \n",
       "2             /match/vfl-osnabruck/meppen/1990  Saturday, 29 July 1989, 15:00   \n",
       "3       /match/rot-weiss-essen/schalke-04/1990  Saturday, 29 July 1989, 15:00   \n",
       "4    /match/alemannia-aachen/msv-duisburg/1990  Saturday, 29 July 1989, 15:00   \n",
       "\n",
       "                                Referee  Home_Yellow  Home_Red  Away_Yellow  \\\n",
       "0    \\r\\nReferee: Hans-Jürgen Weber\\r\\n          0.0       0.0          3.0   \n",
       "1          \\r\\nReferee: Kurt Wittke\\r\\n          1.0       0.0          0.0   \n",
       "2       \\r\\nReferee: Werner Föckler\\r\\n          3.0       0.0          2.0   \n",
       "3         \\r\\nReferee: Heinz Werner\\r\\n          2.0       0.0          2.0   \n",
       "4  \\r\\nReferee: Hans-Peter Dellwing\\r\\n          1.0       0.0          1.0   \n",
       "\n",
       "   Away_Red  \n",
       "0       0.0  \n",
       "1       0.0  \n",
       "2       0.0  \n",
       "3       0.0  \n",
       "4       0.0  "
      ]
     },
     "metadata": {},
     "output_type": "display_data"
    },
    {
     "name": "stdout",
     "output_type": "stream",
     "text": [
      "<class 'pandas.core.frame.DataFrame'>\n",
      "RangeIndex: 143348 entries, 0 to 143347\n",
      "Data columns (total 7 columns):\n",
      " #   Column       Non-Null Count   Dtype  \n",
      "---  ------       --------------   -----  \n",
      " 0   Link         143348 non-null  object \n",
      " 1   Date_New     143348 non-null  object \n",
      " 2   Referee      143348 non-null  object \n",
      " 3   Home_Yellow  122798 non-null  float64\n",
      " 4   Home_Red     122798 non-null  float64\n",
      " 5   Away_Yellow  122798 non-null  float64\n",
      " 6   Away_Red     122798 non-null  float64\n",
      "dtypes: float64(4), object(3)\n",
      "memory usage: 7.7+ MB\n"
     ]
    }
   ],
   "source": [
    "data_dir = os.path.join(project_dir, 'raw_data', 'dataset_2')\n",
    "match_csv = os.path.join(data_dir, 'Match_Info.csv')\n",
    "match_df = pd.read_csv(match_csv)\n",
    "display(match_df.head())\n",
    "match_df.info()"
   ]
  },
  {
   "cell_type": "markdown",
   "metadata": {},
   "source": [
    "**Findings:**\n",
    "- Based on the above, the links are incomplete compared to the results df and will need manipulating so that the dfs can be joined.\n",
    "- Card numbers need to be validated. There are several matches in which this dataset is incomplete. These will have to be left (approx 20k have null values)\n",
    "- Referee strings need to be cleaned.\n",
    "- Links need to be cleaned to match those in results_df.\n",
    "\n",
    "**Cards** - Validate numbers of cards."
   ]
  },
  {
   "cell_type": "code",
   "execution_count": 7,
   "metadata": {},
   "outputs": [
    {
     "name": "stdout",
     "output_type": "stream",
     "text": [
      "{0.0, 1.0, 2.0, 3.0, 4.0, 5.0, 6.0, 7.0, 8.0, 9.0, 10.0}\n",
      "{0.0, 1.0, 2.0, 3.0}\n",
      "{0.0, 1.0, 2.0, 3.0, 4.0, 5.0, 6.0, 7.0, 8.0, 9.0, 10.0}\n",
      "{0.0, 1.0, 2.0, 3.0, 4.0}\n"
     ]
    }
   ],
   "source": [
    "print(set(match_df.loc[~match_df['Home_Yellow'].isna(), 'Home_Yellow']))\n",
    "print(set(match_df.loc[~match_df['Home_Red'].isna(), 'Home_Red']))\n",
    "print(set(match_df.loc[~match_df['Away_Yellow'].isna(), 'Away_Yellow']))\n",
    "print(set(match_df.loc[~match_df['Away_Red'].isna(), 'Away_Red']))"
   ]
  },
  {
   "cell_type": "markdown",
   "metadata": {},
   "source": [
    "**Referee** - Clean up referee strings"
   ]
  },
  {
   "cell_type": "code",
   "execution_count": 8,
   "metadata": {},
   "outputs": [
    {
     "data": {
      "text/html": [
       "<div>\n",
       "<style scoped>\n",
       "    .dataframe tbody tr th:only-of-type {\n",
       "        vertical-align: middle;\n",
       "    }\n",
       "\n",
       "    .dataframe tbody tr th {\n",
       "        vertical-align: top;\n",
       "    }\n",
       "\n",
       "    .dataframe thead th {\n",
       "        text-align: right;\n",
       "    }\n",
       "</style>\n",
       "<table border=\"1\" class=\"dataframe\">\n",
       "  <thead>\n",
       "    <tr style=\"text-align: right;\">\n",
       "      <th></th>\n",
       "      <th>Link</th>\n",
       "      <th>Date_New</th>\n",
       "      <th>Referee</th>\n",
       "      <th>Home_Yellow</th>\n",
       "      <th>Home_Red</th>\n",
       "      <th>Away_Yellow</th>\n",
       "      <th>Away_Red</th>\n",
       "    </tr>\n",
       "  </thead>\n",
       "  <tbody>\n",
       "  </tbody>\n",
       "</table>\n",
       "</div>"
      ],
      "text/plain": [
       "Empty DataFrame\n",
       "Columns: [Link, Date_New, Referee, Home_Yellow, Home_Red, Away_Yellow, Away_Red]\n",
       "Index: []"
      ]
     },
     "metadata": {},
     "output_type": "display_data"
    },
    {
     "data": {
      "text/html": [
       "<div>\n",
       "<style scoped>\n",
       "    .dataframe tbody tr th:only-of-type {\n",
       "        vertical-align: middle;\n",
       "    }\n",
       "\n",
       "    .dataframe tbody tr th {\n",
       "        vertical-align: top;\n",
       "    }\n",
       "\n",
       "    .dataframe thead th {\n",
       "        text-align: right;\n",
       "    }\n",
       "</style>\n",
       "<table border=\"1\" class=\"dataframe\">\n",
       "  <thead>\n",
       "    <tr style=\"text-align: right;\">\n",
       "      <th></th>\n",
       "      <th>Link</th>\n",
       "      <th>Date_New</th>\n",
       "      <th>Referee</th>\n",
       "      <th>Home_Yellow</th>\n",
       "      <th>Home_Red</th>\n",
       "      <th>Away_Yellow</th>\n",
       "      <th>Away_Red</th>\n",
       "    </tr>\n",
       "  </thead>\n",
       "  <tbody>\n",
       "    <tr>\n",
       "      <th>0</th>\n",
       "      <td>/match/saarbrucken/stuttgarter-kickers/1990</td>\n",
       "      <td>Saturday, 29 July 1989, 15:00</td>\n",
       "      <td>Referee: Hans-Jürgen Weber</td>\n",
       "      <td>0.0</td>\n",
       "      <td>0.0</td>\n",
       "      <td>3.0</td>\n",
       "      <td>0.0</td>\n",
       "    </tr>\n",
       "    <tr>\n",
       "      <th>1</th>\n",
       "      <td>/match/sc-freiburg/unterhaching/1990</td>\n",
       "      <td>Saturday, 29 July 1989, 15:00</td>\n",
       "      <td>Referee: Kurt Wittke</td>\n",
       "      <td>1.0</td>\n",
       "      <td>0.0</td>\n",
       "      <td>0.0</td>\n",
       "      <td>0.0</td>\n",
       "    </tr>\n",
       "    <tr>\n",
       "      <th>2</th>\n",
       "      <td>/match/vfl-osnabruck/meppen/1990</td>\n",
       "      <td>Saturday, 29 July 1989, 15:00</td>\n",
       "      <td>Referee: Werner Föckler</td>\n",
       "      <td>3.0</td>\n",
       "      <td>0.0</td>\n",
       "      <td>2.0</td>\n",
       "      <td>0.0</td>\n",
       "    </tr>\n",
       "    <tr>\n",
       "      <th>3</th>\n",
       "      <td>/match/rot-weiss-essen/schalke-04/1990</td>\n",
       "      <td>Saturday, 29 July 1989, 15:00</td>\n",
       "      <td>Referee: Heinz Werner</td>\n",
       "      <td>2.0</td>\n",
       "      <td>0.0</td>\n",
       "      <td>2.0</td>\n",
       "      <td>0.0</td>\n",
       "    </tr>\n",
       "    <tr>\n",
       "      <th>4</th>\n",
       "      <td>/match/alemannia-aachen/msv-duisburg/1990</td>\n",
       "      <td>Saturday, 29 July 1989, 15:00</td>\n",
       "      <td>Referee: Hans-Peter Dellwing</td>\n",
       "      <td>1.0</td>\n",
       "      <td>0.0</td>\n",
       "      <td>1.0</td>\n",
       "      <td>0.0</td>\n",
       "    </tr>\n",
       "  </tbody>\n",
       "</table>\n",
       "</div>"
      ],
      "text/plain": [
       "                                          Link                       Date_New  \\\n",
       "0  /match/saarbrucken/stuttgarter-kickers/1990  Saturday, 29 July 1989, 15:00   \n",
       "1         /match/sc-freiburg/unterhaching/1990  Saturday, 29 July 1989, 15:00   \n",
       "2             /match/vfl-osnabruck/meppen/1990  Saturday, 29 July 1989, 15:00   \n",
       "3       /match/rot-weiss-essen/schalke-04/1990  Saturday, 29 July 1989, 15:00   \n",
       "4    /match/alemannia-aachen/msv-duisburg/1990  Saturday, 29 July 1989, 15:00   \n",
       "\n",
       "                        Referee  Home_Yellow  Home_Red  Away_Yellow  Away_Red  \n",
       "0    Referee: Hans-Jürgen Weber          0.0       0.0          3.0       0.0  \n",
       "1          Referee: Kurt Wittke          1.0       0.0          0.0       0.0  \n",
       "2       Referee: Werner Föckler          3.0       0.0          2.0       0.0  \n",
       "3         Referee: Heinz Werner          2.0       0.0          2.0       0.0  \n",
       "4  Referee: Hans-Peter Dellwing          1.0       0.0          1.0       0.0  "
      ]
     },
     "execution_count": 8,
     "metadata": {},
     "output_type": "execute_result"
    }
   ],
   "source": [
    "match_df['Referee'] = match_df['Referee'].replace('\\r\\n', '', regex=True)\n",
    "display(match_df[match_df['Referee'].str.contains('\\r\\n')])\n",
    "match_df.head()"
   ]
  },
  {
   "cell_type": "markdown",
   "metadata": {},
   "source": [
    "Check links in the results df are in the match_df by standardising link string."
   ]
  },
  {
   "cell_type": "code",
   "execution_count": 9,
   "metadata": {},
   "outputs": [],
   "source": [
    "results_df['Link'] = results_df['Link'].apply(lambda x: x[:(x.rfind('/') + 5)])\n",
    "match_df['Link'] = 'https://www.besoccer.com' + match_df['Link']\n",
    "match_df['Link'] = match_df['Link'].replace('match_\\w+/', 'match/', regex=True)"
   ]
  },
  {
   "cell_type": "markdown",
   "metadata": {},
   "source": [
    "##### 2.3 Team Info Dataframe\n",
    "Convert csv files into dataframe containing team info data."
   ]
  },
  {
   "cell_type": "code",
   "execution_count": 10,
   "metadata": {},
   "outputs": [
    {
     "data": {
      "text/html": [
       "<div>\n",
       "<style scoped>\n",
       "    .dataframe tbody tr th:only-of-type {\n",
       "        vertical-align: middle;\n",
       "    }\n",
       "\n",
       "    .dataframe tbody tr th {\n",
       "        vertical-align: top;\n",
       "    }\n",
       "\n",
       "    .dataframe thead th {\n",
       "        text-align: right;\n",
       "    }\n",
       "</style>\n",
       "<table border=\"1\" class=\"dataframe\">\n",
       "  <thead>\n",
       "    <tr style=\"text-align: right;\">\n",
       "      <th></th>\n",
       "      <th>Team</th>\n",
       "      <th>City</th>\n",
       "      <th>Country</th>\n",
       "      <th>Stadium</th>\n",
       "      <th>Capacity</th>\n",
       "      <th>Pitch</th>\n",
       "    </tr>\n",
       "  </thead>\n",
       "  <tbody>\n",
       "    <tr>\n",
       "      <th>0</th>\n",
       "      <td>Wattenscheid 09</td>\n",
       "      <td>Bochum-Wattenscheid</td>\n",
       "      <td>Germany</td>\n",
       "      <td>Lohrheidestadion</td>\n",
       "      <td>16233</td>\n",
       "      <td>Natural</td>\n",
       "    </tr>\n",
       "    <tr>\n",
       "      <th>1</th>\n",
       "      <td>Hertha BSC</td>\n",
       "      <td>Berlín</td>\n",
       "      <td>Germany</td>\n",
       "      <td>Olympiastadion Berlin</td>\n",
       "      <td>76065</td>\n",
       "      <td>Natural</td>\n",
       "    </tr>\n",
       "    <tr>\n",
       "      <th>2</th>\n",
       "      <td>Unterhaching</td>\n",
       "      <td>Unterhaching</td>\n",
       "      <td>Germany</td>\n",
       "      <td>Sportpark Unterhaching</td>\n",
       "      <td>15053</td>\n",
       "      <td>Natural</td>\n",
       "    </tr>\n",
       "    <tr>\n",
       "      <th>3</th>\n",
       "      <td>Fortuna Köln</td>\n",
       "      <td>Cologne</td>\n",
       "      <td>Germany</td>\n",
       "      <td>Südstadion</td>\n",
       "      <td>14944</td>\n",
       "      <td>Natural</td>\n",
       "    </tr>\n",
       "    <tr>\n",
       "      <th>4</th>\n",
       "      <td>MSV Duisburg</td>\n",
       "      <td>Duisburgo</td>\n",
       "      <td>Germany</td>\n",
       "      <td>Schauinsland-Reisen-Arena</td>\n",
       "      <td>31514</td>\n",
       "      <td>Natural</td>\n",
       "    </tr>\n",
       "  </tbody>\n",
       "</table>\n",
       "</div>"
      ],
      "text/plain": [
       "              Team                 City  Country                    Stadium  \\\n",
       "0  Wattenscheid 09  Bochum-Wattenscheid  Germany           Lohrheidestadion   \n",
       "1       Hertha BSC               Berlín  Germany      Olympiastadion Berlin   \n",
       "2     Unterhaching         Unterhaching  Germany     Sportpark Unterhaching   \n",
       "3     Fortuna Köln              Cologne  Germany                 Südstadion   \n",
       "4     MSV Duisburg            Duisburgo  Germany  Schauinsland-Reisen-Arena   \n",
       "\n",
       "  Capacity    Pitch  \n",
       "0    16233  Natural  \n",
       "1    76065  Natural  \n",
       "2    15053  Natural  \n",
       "3    14944  Natural  \n",
       "4    31514  Natural  "
      ]
     },
     "metadata": {},
     "output_type": "display_data"
    },
    {
     "name": "stdout",
     "output_type": "stream",
     "text": [
      "<class 'pandas.core.frame.DataFrame'>\n",
      "RangeIndex: 544 entries, 0 to 543\n",
      "Data columns (total 6 columns):\n",
      " #   Column    Non-Null Count  Dtype \n",
      "---  ------    --------------  ----- \n",
      " 0   Team      544 non-null    object\n",
      " 1   City      544 non-null    object\n",
      " 2   Country   544 non-null    object\n",
      " 3   Stadium   447 non-null    object\n",
      " 4   Capacity  544 non-null    object\n",
      " 5   Pitch     447 non-null    object\n",
      "dtypes: object(6)\n",
      "memory usage: 25.6+ KB\n",
      "None\n"
     ]
    }
   ],
   "source": [
    "data_dir = os.path.join(project_dir, 'raw_data', 'dataset_2')\n",
    "team_csv = os.path.join(data_dir, 'Team_Info.csv')\n",
    "team_df = pd.read_csv(team_csv)\n",
    "display(team_df.head())\n",
    "print(team_df.info())"
   ]
  },
  {
   "cell_type": "markdown",
   "metadata": {},
   "source": [
    "**Findings:**\n",
    "- Based on the above, the country and pitch need to be validated and if applicable cleaned.\n",
    "- City, team names, capacity and stadium will have to be assumed to be correct for now.\n",
    "\n",
    "**Country** - Check countries are applicable and valid."
   ]
  },
  {
   "cell_type": "code",
   "execution_count": 11,
   "metadata": {},
   "outputs": [
    {
     "name": "stdout",
     "output_type": "stream",
     "text": [
      "{'Netherlands', 'Portugal', 'Spain', 'France', 'Germany', 'Italy', 'England'}\n"
     ]
    }
   ],
   "source": [
    "print(set(team_df['Country']))"
   ]
  },
  {
   "cell_type": "markdown",
   "metadata": {},
   "source": [
    "**Pitch** - Standardise entries for pitch type."
   ]
  },
  {
   "cell_type": "code",
   "execution_count": 12,
   "metadata": {},
   "outputs": [
    {
     "name": "stdout",
     "output_type": "stream",
     "text": [
      "{nan, 'Cesped natural', 'natural', 'Artificial', 'AirFibr ', 'Césped Natural', 'Grass', 'Césped', 'Césped natural', 'cesped natural', 'Natural grass', 'natural grass', 'Césped Artificial', 'grass', 'NATURAL', 'Natural', 'cesped real'}\n",
      "{nan, 'AirFibr ', 'Artificial', 'Natural'}\n"
     ]
    }
   ],
   "source": [
    "print(set(team_df['Pitch']))\n",
    "list_to_update = ['cesped real', 'Grass', 'Césped Natural', 'Cesped natural', 'NATURAL', 'Natural grass', 'Césped', 'Césped natural', 'natural', 'natural grass', 'cesped natural', 'grass']\n",
    "team_df.loc[team_df['Pitch'].isin(list_to_update), 'Pitch'] = 'Natural'\n",
    "team_df.loc[team_df['Pitch'] == 'Césped Artificial', 'Pitch'] = 'Artificial'\n",
    "print(set(team_df['Pitch']))"
   ]
  },
  {
   "cell_type": "markdown",
   "metadata": {},
   "source": [
    "#### 3 Combine Datasets\n",
    "##### 3.1 Compare Datasets and Clean\n",
    "Find results with teams not in team_df.\n",
    "Create dictionary of team names to be replaced."
   ]
  },
  {
   "cell_type": "code",
   "execution_count": 13,
   "metadata": {},
   "outputs": [
    {
     "name": "stdout",
     "output_type": "stream",
     "text": [
      "True\n",
      "{'SV Wacker Burghausen', 'Olympique Marseille', 'Licata', 'B. Mönchengladbach', 'Oldham Athletic AFC', 'Kickers Offenbach FC', 'Paços de Ferreira', 'SV Wehen Burghausen', 'FC Libourne Saint Seurin', 'Barletta', 'Fortuna Düsseldorf', 'SV Eintracht Trier', 'Casertana', 'Stuttgarter Kickers', 'Real Unión de Irún', 'Gimnàstic Tarragona', 'Brighton & Hove Albion', 'Blau-Weiß 1890 Berlin', 'Queens Park Rangers', 'Peterborough United', 'Calcio Portogruaro-Summaga', 'FC Carl Zeiss Jena', 'Sporting Toulon Var', '1. FC Lokomotive Leipzig', 'Taranto', 'Sheffield Wednesday', 'Vitória Guimarães B', 'Rot-Weiß Oberhausen', 'Evian Thonon Gaillard', 'West Bromwich Albion', 'CS Louhans Cuiseaux', 'Siegen Sportfreunde ', 'Eintracht Frankfurt', 'AS Lucchese Libertas 1905', 'Vitória Guimarães', 'Würzburger Kickers'}\n"
     ]
    }
   ],
   "source": [
    "not_found_home = set(results_df[~results_df['Home_Team'].isin(team_df['Team'])]['Home_Team'])\n",
    "not_found_away = set(results_df[~results_df['Away_Team'].isin(team_df['Team'])]['Away_Team'])\n",
    "print(not_found_home == not_found_away)\n",
    "print(not_found_home)"
   ]
  },
  {
   "cell_type": "code",
   "execution_count": 14,
   "metadata": {},
   "outputs": [
    {
     "data": {
      "text/plain": [
       "{'SV Wacker Burghausen': 'Wacker Burghausen',\n",
       " 'Olympique Marseille': 'Olympique',\n",
       " 'Licata': 'Alicante',\n",
       " 'B. Mönchengladbach': 'Mönchengladbach',\n",
       " 'Oldham Athletic AFC': 'Oldham Athletic',\n",
       " 'Kickers Offenbach FC': 'Kickers Offenbach',\n",
       " 'Paços de Ferreira': 'Paços Ferreira',\n",
       " 'SV Wehen Burghausen': 'Wehen Burghausen',\n",
       " 'FC Libourne Saint Seurin': 'FC Cartagena',\n",
       " 'Barletta': 'Arles',\n",
       " 'Fortuna Düsseldorf': 'Fortuna',\n",
       " 'SV Eintracht Trier': 'Eintracht Trier',\n",
       " 'Casertana': 'Catania',\n",
       " 'Stuttgarter Kickers': 'Stuttgarter',\n",
       " 'Real Unión de Irún': 'Real Unión Irún',\n",
       " 'Gimnàstic Tarragona': 'Gimnàstic',\n",
       " 'Brighton & Hove Albion': 'Brighton Hove Alb.',\n",
       " 'Blau-Weiß 1890 Berlin': 'Blau-Weiß 1890 B.',\n",
       " 'Queens Park Rangers': 'Queens Park Range.',\n",
       " 'Peterborough United': 'Peterborough',\n",
       " 'Calcio Portogruaro-Summaga': 'Porto',\n",
       " 'FC Carl Zeiss Jena': 'Carl Zeiss Jena',\n",
       " 'Sporting Toulon Var': 'Sporting Toulon',\n",
       " '1. FC Lokomotive Leipzig': 'Lokomotive Leipzig',\n",
       " 'Taranto': 'Atalanta',\n",
       " 'Sheffield Wednesday': 'Sheffield',\n",
       " 'Vitória Guimarães B': 'Vitória',\n",
       " 'Rot-Weiß Oberhausen': 'Rot-Weiß',\n",
       " 'Evian Thonon Gaillard': 'Evian Thonon Gail.',\n",
       " 'West Bromwich Albion': 'West Bromwich Alb.',\n",
       " 'CS Louhans Cuiseaux': 'Louhans Cuiseaux',\n",
       " 'Siegen Sportfreunde ': 'Siegen',\n",
       " 'Eintracht Frankfurt': 'Eintracht',\n",
       " 'AS Lucchese Libertas 1905': 'Lucchese Libertas',\n",
       " 'Vitória Guimarães': 'Vitória',\n",
       " 'Würzburger Kickers': 'Würzburger'}"
      ]
     },
     "execution_count": 14,
     "metadata": {},
     "output_type": "execute_result"
    }
   ],
   "source": [
    "team_list = list(set(team_df['Team'].to_list()))\n",
    "teams_to_change = {}\n",
    "\n",
    "for team in not_found_home:\n",
    "    teams_to_change[team] = process.extractOne(team, team_list)[0]\n",
    "teams_to_change"
   ]
  },
  {
   "cell_type": "markdown",
   "metadata": {},
   "source": [
    "Pop team names that are incorrectly matched. And then update the dictionary."
   ]
  },
  {
   "cell_type": "code",
   "execution_count": 15,
   "metadata": {},
   "outputs": [],
   "source": [
    "keys_to_drop = {\n",
    "    'Licata': 'Alicante',\n",
    "    'Casertana': 'Catania',\n",
    "    'Barletta': 'Arles',\n",
    "    'Taranto': 'Atalanta',\n",
    "    'Calcio Portogruaro-Summaga': 'Calcio',\n",
    "    'FC Libourne Saint Seurin': 'Paris FC'}\n",
    "\n",
    "for k in keys_to_drop.keys():\n",
    "    teams_to_change.pop(k)"
   ]
  },
  {
   "cell_type": "code",
   "execution_count": 16,
   "metadata": {},
   "outputs": [
    {
     "name": "stdout",
     "output_type": "stream",
     "text": [
      "{'FC Libourne Saint Seurin', 'Barletta', 'Casertana', 'Licata', 'Calcio Portogruaro-Summaga', 'Taranto'}\n"
     ]
    }
   ],
   "source": [
    "values_to_update = {\"Home_Team\": teams_to_change}\n",
    "results_df.replace(values_to_update, inplace=True)\n",
    "values_to_update = {\"Away_Team\": teams_to_change}\n",
    "results_df.replace(values_to_update, inplace=True)\n",
    "not_found_home = set(results_df[~results_df['Home_Team'].isin(team_df['Team'])]['Home_Team'])\n",
    "print(not_found_home)"
   ]
  },
  {
   "cell_type": "markdown",
   "metadata": {},
   "source": [
    "As there are 3503 unmatched links out 146000 data entries, these unmatched links can be dropped. Matching these would otherwise be too computationally/time expensive."
   ]
  },
  {
   "cell_type": "markdown",
   "metadata": {},
   "source": [
    "###### 3.2 Merge Datasets\n",
    "Merge as follows:\n",
    "- Pull in team_df into results_df\n",
    "- Pull in match_df into results_df"
   ]
  },
  {
   "cell_type": "code",
   "execution_count": 17,
   "metadata": {},
   "outputs": [],
   "source": [
    "team_df = team_df.rename(columns={'Team' : 'Home_Team'})"
   ]
  },
  {
   "cell_type": "code",
   "execution_count": 18,
   "metadata": {},
   "outputs": [
    {
     "data": {
      "text/html": [
       "<div>\n",
       "<style scoped>\n",
       "    .dataframe tbody tr th:only-of-type {\n",
       "        vertical-align: middle;\n",
       "    }\n",
       "\n",
       "    .dataframe tbody tr th {\n",
       "        vertical-align: top;\n",
       "    }\n",
       "\n",
       "    .dataframe thead th {\n",
       "        text-align: right;\n",
       "    }\n",
       "</style>\n",
       "<table border=\"1\" class=\"dataframe\">\n",
       "  <thead>\n",
       "    <tr style=\"text-align: right;\">\n",
       "      <th></th>\n",
       "      <th>Home_Team</th>\n",
       "      <th>Away_Team</th>\n",
       "      <th>Result</th>\n",
       "      <th>Link</th>\n",
       "      <th>Season</th>\n",
       "      <th>Round</th>\n",
       "      <th>League</th>\n",
       "      <th>Date_New</th>\n",
       "      <th>Referee</th>\n",
       "      <th>Home_Yellow</th>\n",
       "      <th>Home_Red</th>\n",
       "      <th>Away_Yellow</th>\n",
       "      <th>Away_Red</th>\n",
       "      <th>City</th>\n",
       "      <th>Country</th>\n",
       "      <th>Stadium</th>\n",
       "      <th>Capacity</th>\n",
       "      <th>Pitch</th>\n",
       "    </tr>\n",
       "  </thead>\n",
       "  <tbody>\n",
       "    <tr>\n",
       "      <th>0</th>\n",
       "      <td>Perugia</td>\n",
       "      <td>Bologna</td>\n",
       "      <td>2-1</td>\n",
       "      <td>https://www.besoccer.com/match/perugia/bologna/2015</td>\n",
       "      <td>2015</td>\n",
       "      <td>1</td>\n",
       "      <td>serie_b</td>\n",
       "      <td>Friday, 29 August 2014, 20:30</td>\n",
       "      <td>Referee: Claudio Gavillucci</td>\n",
       "      <td>4.0</td>\n",
       "      <td>0.0</td>\n",
       "      <td>4.0</td>\n",
       "      <td>2.0</td>\n",
       "      <td>Perugia</td>\n",
       "      <td>Italy</td>\n",
       "      <td>Stadio Renato Curi</td>\n",
       "      <td>28000</td>\n",
       "      <td>Natural</td>\n",
       "    </tr>\n",
       "    <tr>\n",
       "      <th>1</th>\n",
       "      <td>Avellino</td>\n",
       "      <td>Pro Vercelli</td>\n",
       "      <td>1-0</td>\n",
       "      <td>https://www.besoccer.com/match/us-avellino/us-pro-vercelli-calcio/2015</td>\n",
       "      <td>2015</td>\n",
       "      <td>1</td>\n",
       "      <td>serie_b</td>\n",
       "      <td>Saturday, 30 August 2014, 20:30</td>\n",
       "      <td>Referee: Ivano Pezzuto</td>\n",
       "      <td>2.0</td>\n",
       "      <td>0.0</td>\n",
       "      <td>4.0</td>\n",
       "      <td>1.0</td>\n",
       "      <td>Avellino</td>\n",
       "      <td>Italy</td>\n",
       "      <td>Stadio Partenio</td>\n",
       "      <td>10215</td>\n",
       "      <td>Natural</td>\n",
       "    </tr>\n",
       "    <tr>\n",
       "      <th>2</th>\n",
       "      <td>Catania</td>\n",
       "      <td>Virtus Lanciano</td>\n",
       "      <td>3-3</td>\n",
       "      <td>https://www.besoccer.com/match/catania/ss-virtus-lanciano-1924/2015</td>\n",
       "      <td>2015</td>\n",
       "      <td>1</td>\n",
       "      <td>serie_b</td>\n",
       "      <td>Saturday, 30 August 2014, 20:30</td>\n",
       "      <td>Referee: Daniele Minelli</td>\n",
       "      <td>6.0</td>\n",
       "      <td>1.0</td>\n",
       "      <td>3.0</td>\n",
       "      <td>1.0</td>\n",
       "      <td>Catania</td>\n",
       "      <td>Italy</td>\n",
       "      <td>Stadio Angelo Massimino</td>\n",
       "      <td>23420</td>\n",
       "      <td>Natural</td>\n",
       "    </tr>\n",
       "    <tr>\n",
       "      <th>3</th>\n",
       "      <td>Crotone</td>\n",
       "      <td>Ternana Calcio</td>\n",
       "      <td>0-2</td>\n",
       "      <td>https://www.besoccer.com/match/fc-crotone/ternana-calcio/2015</td>\n",
       "      <td>2015</td>\n",
       "      <td>1</td>\n",
       "      <td>serie_b</td>\n",
       "      <td>Saturday, 30 August 2014, 20:30</td>\n",
       "      <td>Referee: Maurizio Mariani</td>\n",
       "      <td>5.0</td>\n",
       "      <td>0.0</td>\n",
       "      <td>4.0</td>\n",
       "      <td>0.0</td>\n",
       "      <td>Crotone</td>\n",
       "      <td>Italy</td>\n",
       "      <td>Ezio Scida</td>\n",
       "      <td>16640</td>\n",
       "      <td>Natural</td>\n",
       "    </tr>\n",
       "    <tr>\n",
       "      <th>4</th>\n",
       "      <td>Virtus Entella</td>\n",
       "      <td>SSC Bari</td>\n",
       "      <td>0-2</td>\n",
       "      <td>https://www.besoccer.com/match/virtus-entella/as-bari/2015</td>\n",
       "      <td>2015</td>\n",
       "      <td>1</td>\n",
       "      <td>serie_b</td>\n",
       "      <td>Saturday, 30 August 2014, 20:30</td>\n",
       "      <td>Referee: Leonardo Baracani</td>\n",
       "      <td>2.0</td>\n",
       "      <td>0.0</td>\n",
       "      <td>2.0</td>\n",
       "      <td>0.0</td>\n",
       "      <td>Chiavari</td>\n",
       "      <td>Italy</td>\n",
       "      <td>Stadio Comunale Chiavari</td>\n",
       "      <td>4154</td>\n",
       "      <td>Artificial</td>\n",
       "    </tr>\n",
       "  </tbody>\n",
       "</table>\n",
       "</div>"
      ],
      "text/plain": [
       "        Home_Team        Away_Team Result  \\\n",
       "0         Perugia          Bologna    2-1   \n",
       "1        Avellino     Pro Vercelli    1-0   \n",
       "2         Catania  Virtus Lanciano    3-3   \n",
       "3         Crotone   Ternana Calcio    0-2   \n",
       "4  Virtus Entella         SSC Bari    0-2   \n",
       "\n",
       "                                                                     Link  \\\n",
       "0                     https://www.besoccer.com/match/perugia/bologna/2015   \n",
       "1  https://www.besoccer.com/match/us-avellino/us-pro-vercelli-calcio/2015   \n",
       "2     https://www.besoccer.com/match/catania/ss-virtus-lanciano-1924/2015   \n",
       "3           https://www.besoccer.com/match/fc-crotone/ternana-calcio/2015   \n",
       "4              https://www.besoccer.com/match/virtus-entella/as-bari/2015   \n",
       "\n",
       "   Season  Round   League                         Date_New  \\\n",
       "0    2015      1  serie_b    Friday, 29 August 2014, 20:30   \n",
       "1    2015      1  serie_b  Saturday, 30 August 2014, 20:30   \n",
       "2    2015      1  serie_b  Saturday, 30 August 2014, 20:30   \n",
       "3    2015      1  serie_b  Saturday, 30 August 2014, 20:30   \n",
       "4    2015      1  serie_b  Saturday, 30 August 2014, 20:30   \n",
       "\n",
       "                       Referee  Home_Yellow  Home_Red  Away_Yellow  Away_Red  \\\n",
       "0  Referee: Claudio Gavillucci          4.0       0.0          4.0       2.0   \n",
       "1       Referee: Ivano Pezzuto          2.0       0.0          4.0       1.0   \n",
       "2     Referee: Daniele Minelli          6.0       1.0          3.0       1.0   \n",
       "3    Referee: Maurizio Mariani          5.0       0.0          4.0       0.0   \n",
       "4   Referee: Leonardo Baracani          2.0       0.0          2.0       0.0   \n",
       "\n",
       "       City Country                   Stadium Capacity       Pitch  \n",
       "0   Perugia   Italy        Stadio Renato Curi    28000     Natural  \n",
       "1  Avellino   Italy           Stadio Partenio    10215     Natural  \n",
       "2   Catania   Italy   Stadio Angelo Massimino    23420     Natural  \n",
       "3   Crotone   Italy                Ezio Scida    16640     Natural  \n",
       "4  Chiavari   Italy  Stadio Comunale Chiavari     4154  Artificial  "
      ]
     },
     "metadata": {},
     "output_type": "display_data"
    },
    {
     "name": "stdout",
     "output_type": "stream",
     "text": [
      "<class 'pandas.core.frame.DataFrame'>\n",
      "Int64Index: 146497 entries, 0 to 146496\n",
      "Data columns (total 18 columns):\n",
      " #   Column       Non-Null Count   Dtype  \n",
      "---  ------       --------------   -----  \n",
      " 0   Home_Team    146497 non-null  object \n",
      " 1   Away_Team    146497 non-null  object \n",
      " 2   Result       146497 non-null  object \n",
      " 3   Link         146497 non-null  object \n",
      " 4   Season       146497 non-null  int64  \n",
      " 5   Round        146497 non-null  int64  \n",
      " 6   League       146497 non-null  object \n",
      " 7   Date_New     142994 non-null  object \n",
      " 8   Referee      142994 non-null  object \n",
      " 9   Home_Yellow  123024 non-null  float64\n",
      " 10  Home_Red     123024 non-null  float64\n",
      " 11  Away_Yellow  123024 non-null  float64\n",
      " 12  Away_Red     123024 non-null  float64\n",
      " 13  City         146305 non-null  object \n",
      " 14  Country      146305 non-null  object \n",
      " 15  Stadium      137036 non-null  object \n",
      " 16  Capacity     146305 non-null  object \n",
      " 17  Pitch        137362 non-null  object \n",
      "dtypes: float64(4), int64(2), object(12)\n",
      "memory usage: 21.2+ MB\n",
      "None\n"
     ]
    }
   ],
   "source": [
    "df = pd.merge(results_df, match_df, on='Link', how='left')\n",
    "df = pd.merge(df, team_df, on='Home_Team', how='left')\n",
    "display(df.head())\n",
    "print(df.info())"
   ]
  },
  {
   "cell_type": "markdown",
   "metadata": {},
   "source": [
    "#### 4 Export Dataset"
   ]
  },
  {
   "cell_type": "code",
   "execution_count": 19,
   "metadata": {},
   "outputs": [],
   "source": [
    "# Save to json file\n",
    " \n",
    "df_json = df.to_json(os.path.join(project_dir, 'clean_dataset.json'))"
   ]
  }
 ],
 "metadata": {
  "interpreter": {
   "hash": "10b24f9ae05dd158b6b525ea86382ba6ae283167f29ba7cf9942217576627c33"
  },
  "kernelspec": {
   "display_name": "Python 3.9.5 ('base')",
   "language": "python",
   "name": "python3"
  },
  "language_info": {
   "codemirror_mode": {
    "name": "ipython",
    "version": 3
   },
   "file_extension": ".py",
   "mimetype": "text/x-python",
   "name": "python",
   "nbconvert_exporter": "python",
   "pygments_lexer": "ipython3",
   "version": "3.9.5"
  },
  "orig_nbformat": 4
 },
 "nbformat": 4,
 "nbformat_minor": 2
}
