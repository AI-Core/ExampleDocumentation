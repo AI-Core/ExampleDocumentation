{
 "cells": [
  {
   "cell_type": "code",
   "execution_count": null,
   "metadata": {},
   "outputs": [],
   "source": [
    "# Add in W/L/D features\n",
    "\n",
    "def get_result(result):\n",
    "    result = result.split('-')\n",
    "    result = [int(i) for i in result]\n",
    "    home_goals = result[0]\n",
    "    away_goals = result[1]\n",
    "    if home_goals > away_goals:\n",
    "        res = 'H'\n",
    "    elif home_goals < away_goals:\n",
    "        res = 'A'\n",
    "    else:\n",
    "        res = 'D'\n",
    "    return home_goals, away_goals, res\n",
    "\n",
    "df[['Home_Goals', 'Away_Goals', 'Outcome']] = df.apply(lambda df: get_result(df['Result']), axis=1, result_type='expand')\n",
    "df"
   ]
  },
  {
   "cell_type": "code",
   "execution_count": null,
   "metadata": {},
   "outputs": [],
   "source": [
    "# Create new column for nation of league\n",
    "\n",
    "set(df['League'])\n",
    "league_country = {'2_liga': 'Germany',\n",
    "                    'bundesliga': 'Germany',\n",
    "                    'championship': 'England',\n",
    "                    'eerste_divisie': 'Netherlands',\n",
    "                    'eredivisie': 'Netherlands',\n",
    "                    'ligue_1': 'France',\n",
    "                    'ligue_2': 'France',\n",
    "                    'premier_league': 'England',\n",
    "                    'primeira_liga': 'Portugal',\n",
    "                    'primera_division': 'Spain',\n",
    "                    'segunda_division': 'Spain',\n",
    "                    'segunda_liga': 'Portugal',\n",
    "                    'serie_a': 'Italy',\n",
    "                    'serie_b': 'Italy'}\n",
    "df['Country'] = df['League'].map(league_country)\n",
    "df"
   ]
  },
  {
   "cell_type": "code",
   "execution_count": null,
   "metadata": {},
   "outputs": [],
   "source": []
  }
 ],
 "metadata": {
  "language_info": {
   "name": "python"
  },
  "orig_nbformat": 4
 },
 "nbformat": 4,
 "nbformat_minor": 2
}
